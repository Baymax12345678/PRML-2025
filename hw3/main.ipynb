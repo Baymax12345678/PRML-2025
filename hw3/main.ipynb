{
 "cells": [
  {
   "cell_type": "code",
   "id": "initial_id",
   "metadata": {
    "collapsed": true,
    "ExecuteTime": {
     "end_time": "2025-04-22T11:25:36.852279Z",
     "start_time": "2025-04-22T11:25:36.808867Z"
    }
   },
   "source": [
    "from imp import load_source\n",
    "from pyexpat import features\n",
    "\n",
    "import pandas as pd\n",
    "\n",
    "df_train = pd.read_csv('/Users/baymax/Code/pythonProject/PRML/hw3/data/LSTM-Multivariate_pollution.csv')\n",
    "print(df_train.head())\n",
    "print(df_train.dtypes)\n",
    "print(df_train.isnull().sum())"
   ],
   "outputs": [
    {
     "name": "stdout",
     "output_type": "stream",
     "text": [
      "                  date  pollution  dew  temp   press wnd_dir  wnd_spd  snow  \\\n",
      "0  2010-01-02 00:00:00      129.0  -16  -4.0  1020.0      SE     1.79     0   \n",
      "1  2010-01-02 01:00:00      148.0  -15  -4.0  1020.0      SE     2.68     0   \n",
      "2  2010-01-02 02:00:00      159.0  -11  -5.0  1021.0      SE     3.57     0   \n",
      "3  2010-01-02 03:00:00      181.0   -7  -5.0  1022.0      SE     5.36     1   \n",
      "4  2010-01-02 04:00:00      138.0   -7  -5.0  1022.0      SE     6.25     2   \n",
      "\n",
      "   rain  \n",
      "0     0  \n",
      "1     0  \n",
      "2     0  \n",
      "3     0  \n",
      "4     0  \n",
      "date          object\n",
      "pollution    float64\n",
      "dew            int64\n",
      "temp         float64\n",
      "press        float64\n",
      "wnd_dir       object\n",
      "wnd_spd      float64\n",
      "snow           int64\n",
      "rain           int64\n",
      "dtype: object\n",
      "date         0\n",
      "pollution    0\n",
      "dew          0\n",
      "temp         0\n",
      "press        0\n",
      "wnd_dir      0\n",
      "wnd_spd      0\n",
      "snow         0\n",
      "rain         0\n",
      "dtype: int64\n"
     ]
    }
   ],
   "execution_count": 113
  },
  {
   "metadata": {
    "ExecuteTime": {
     "end_time": "2025-04-22T11:25:36.874565Z",
     "start_time": "2025-04-22T11:25:36.859599Z"
    }
   },
   "cell_type": "code",
   "source": [
    "# data preprocessing\n",
    "from sklearn.preprocessing import LabelEncoder\n",
    "\n",
    "df_train['date'] = pd.to_datetime(df_train['date'])\n",
    "le = LabelEncoder()\n",
    "df_train['wnd_dir'] = le.fit_transform(df_train['wnd_dir'])\n",
    "df_train.head()"
   ],
   "id": "7b2f642be3a34225",
   "outputs": [
    {
     "data": {
      "text/plain": [
       "                 date  pollution  dew  temp   press  wnd_dir  wnd_spd  snow  \\\n",
       "0 2010-01-02 00:00:00      129.0  -16  -4.0  1020.0        2     1.79     0   \n",
       "1 2010-01-02 01:00:00      148.0  -15  -4.0  1020.0        2     2.68     0   \n",
       "2 2010-01-02 02:00:00      159.0  -11  -5.0  1021.0        2     3.57     0   \n",
       "3 2010-01-02 03:00:00      181.0   -7  -5.0  1022.0        2     5.36     1   \n",
       "4 2010-01-02 04:00:00      138.0   -7  -5.0  1022.0        2     6.25     2   \n",
       "\n",
       "   rain  \n",
       "0     0  \n",
       "1     0  \n",
       "2     0  \n",
       "3     0  \n",
       "4     0  "
      ],
      "text/html": [
       "<div>\n",
       "<style scoped>\n",
       "    .dataframe tbody tr th:only-of-type {\n",
       "        vertical-align: middle;\n",
       "    }\n",
       "\n",
       "    .dataframe tbody tr th {\n",
       "        vertical-align: top;\n",
       "    }\n",
       "\n",
       "    .dataframe thead th {\n",
       "        text-align: right;\n",
       "    }\n",
       "</style>\n",
       "<table border=\"1\" class=\"dataframe\">\n",
       "  <thead>\n",
       "    <tr style=\"text-align: right;\">\n",
       "      <th></th>\n",
       "      <th>date</th>\n",
       "      <th>pollution</th>\n",
       "      <th>dew</th>\n",
       "      <th>temp</th>\n",
       "      <th>press</th>\n",
       "      <th>wnd_dir</th>\n",
       "      <th>wnd_spd</th>\n",
       "      <th>snow</th>\n",
       "      <th>rain</th>\n",
       "    </tr>\n",
       "  </thead>\n",
       "  <tbody>\n",
       "    <tr>\n",
       "      <th>0</th>\n",
       "      <td>2010-01-02 00:00:00</td>\n",
       "      <td>129.0</td>\n",
       "      <td>-16</td>\n",
       "      <td>-4.0</td>\n",
       "      <td>1020.0</td>\n",
       "      <td>2</td>\n",
       "      <td>1.79</td>\n",
       "      <td>0</td>\n",
       "      <td>0</td>\n",
       "    </tr>\n",
       "    <tr>\n",
       "      <th>1</th>\n",
       "      <td>2010-01-02 01:00:00</td>\n",
       "      <td>148.0</td>\n",
       "      <td>-15</td>\n",
       "      <td>-4.0</td>\n",
       "      <td>1020.0</td>\n",
       "      <td>2</td>\n",
       "      <td>2.68</td>\n",
       "      <td>0</td>\n",
       "      <td>0</td>\n",
       "    </tr>\n",
       "    <tr>\n",
       "      <th>2</th>\n",
       "      <td>2010-01-02 02:00:00</td>\n",
       "      <td>159.0</td>\n",
       "      <td>-11</td>\n",
       "      <td>-5.0</td>\n",
       "      <td>1021.0</td>\n",
       "      <td>2</td>\n",
       "      <td>3.57</td>\n",
       "      <td>0</td>\n",
       "      <td>0</td>\n",
       "    </tr>\n",
       "    <tr>\n",
       "      <th>3</th>\n",
       "      <td>2010-01-02 03:00:00</td>\n",
       "      <td>181.0</td>\n",
       "      <td>-7</td>\n",
       "      <td>-5.0</td>\n",
       "      <td>1022.0</td>\n",
       "      <td>2</td>\n",
       "      <td>5.36</td>\n",
       "      <td>1</td>\n",
       "      <td>0</td>\n",
       "    </tr>\n",
       "    <tr>\n",
       "      <th>4</th>\n",
       "      <td>2010-01-02 04:00:00</td>\n",
       "      <td>138.0</td>\n",
       "      <td>-7</td>\n",
       "      <td>-5.0</td>\n",
       "      <td>1022.0</td>\n",
       "      <td>2</td>\n",
       "      <td>6.25</td>\n",
       "      <td>2</td>\n",
       "      <td>0</td>\n",
       "    </tr>\n",
       "  </tbody>\n",
       "</table>\n",
       "</div>"
      ]
     },
     "execution_count": 114,
     "metadata": {},
     "output_type": "execute_result"
    }
   ],
   "execution_count": 114
  },
  {
   "metadata": {
    "ExecuteTime": {
     "end_time": "2025-04-22T11:25:43.063812Z",
     "start_time": "2025-04-22T11:25:36.912267Z"
    }
   },
   "cell_type": "code",
   "source": [
    "import numpy as np\n",
    "\n",
    "def create_lstm_dataset(data, target_col='pollution', time_steps=3):\n",
    "    X, y = [], []\n",
    "    for i in range(len(data)-time_steps):\n",
    "        features = data.iloc[i:(i+time_steps)].drop(columns=['date', target_col]).values\n",
    "        target = data.iloc[i + time_steps][target_col]\n",
    "        X.append(features)\n",
    "        y.append(target)\n",
    "    return np.array(X), np.array(y)\n",
    "\n",
    "X, y = create_lstm_dataset(df_train, target_col='pollution', time_steps=7)\n",
    "print(X.shape)\n",
    "print(y.shape)"
   ],
   "id": "c64b920f77576e8a",
   "outputs": [
    {
     "name": "stdout",
     "output_type": "stream",
     "text": [
      "(43793, 7, 7)\n",
      "(43793,)\n"
     ]
    }
   ],
   "execution_count": 115
  },
  {
   "metadata": {
    "ExecuteTime": {
     "end_time": "2025-04-22T11:25:43.083689Z",
     "start_time": "2025-04-22T11:25:43.081272Z"
    }
   },
   "cell_type": "code",
   "source": [
    "from sklearn.model_selection import train_test_split\n",
    "\n",
    "train_size = int(len(X)*0.8)\n",
    "X_train, X_val = X[:train_size], X[train_size:]\n",
    "y_train, y_val = y[:train_size], y[train_size:]"
   ],
   "id": "503d8fa0a35eb69c",
   "outputs": [],
   "execution_count": 116
  },
  {
   "metadata": {
    "ExecuteTime": {
     "end_time": "2025-04-22T11:25:43.109796Z",
     "start_time": "2025-04-22T11:25:43.091870Z"
    }
   },
   "cell_type": "code",
   "source": [
    "from sklearn.preprocessing import MinMaxScaler\n",
    "\n",
    "n_features = X.shape[2]\n",
    "scalers = [MinMaxScaler() for _ in range(n_features)]\n",
    "for i in range(n_features):\n",
    "    # 将每个特征展开成二维列向量，正确记录 min/max\n",
    "    X_train_2d = X_train[:, :, i].reshape(-1, 1)  \n",
    "    scalers[i].fit(X_train_2d)\n",
    "    # 训练集缩放\n",
    "    X_train[:, :, i] = scalers[i].transform(X_train_2d).reshape(X_train.shape[0], X_train.shape[1])\n",
    "    # 验证集缩放\n",
    "    X_val[:, :, i] = scalers[i].transform(X_val[:, :, i].reshape(-1, 1)).reshape(X_val.shape[0], X_val.shape[1])"
   ],
   "id": "803c579b195f7e81",
   "outputs": [],
   "execution_count": 117
  },
  {
   "metadata": {
    "ExecuteTime": {
     "end_time": "2025-04-22T11:25:43.130040Z",
     "start_time": "2025-04-22T11:25:43.127769Z"
    }
   },
   "cell_type": "code",
   "source": "scalers[0].data_max_, scalers[0].data_min_",
   "id": "d21edcd071fd09d5",
   "outputs": [
    {
     "data": {
      "text/plain": [
       "(array([28.]), array([-33.]))"
      ]
     },
     "execution_count": 118,
     "metadata": {},
     "output_type": "execute_result"
    }
   ],
   "execution_count": 118
  },
  {
   "metadata": {
    "ExecuteTime": {
     "end_time": "2025-04-22T11:25:43.148329Z",
     "start_time": "2025-04-22T11:25:43.146558Z"
    }
   },
   "cell_type": "code",
   "source": [
    "import torch\n",
    "import torch.nn as nn\n",
    "from torch.utils.data import DataLoader, TensorDataset"
   ],
   "id": "bf13047d76fc3677",
   "outputs": [],
   "execution_count": 119
  },
  {
   "metadata": {
    "ExecuteTime": {
     "end_time": "2025-04-22T11:25:43.167510Z",
     "start_time": "2025-04-22T11:25:43.163837Z"
    }
   },
   "cell_type": "code",
   "source": [
    "X_train_torch = torch.tensor(X_train, dtype=torch.float32)\n",
    "y_train_torch = torch.tensor(y_train, dtype=torch.float32).view(-1 ,1)\n",
    "\n",
    "X_val_torch = torch.tensor(X_val, dtype=torch.float32)\n",
    "y_val_torch = torch.tensor(y_val, dtype=torch.float32).view(-1 ,1)\n",
    "\n",
    "batch_size = 64\n",
    "train_dataset = TensorDataset(X_train_torch, y_train_torch)\n",
    "val_dataset = TensorDataset(X_val_torch, y_val_torch)\n",
    "\n",
    "train_loader = DataLoader(train_dataset, batch_size=batch_size, shuffle=True)\n",
    "val_loader = DataLoader(val_dataset, batch_size=batch_size, shuffle=False)"
   ],
   "id": "d253aba54c10d5b",
   "outputs": [],
   "execution_count": 120
  },
  {
   "metadata": {
    "ExecuteTime": {
     "end_time": "2025-04-22T11:25:43.186067Z",
     "start_time": "2025-04-22T11:25:43.183849Z"
    }
   },
   "cell_type": "code",
   "source": [
    "class LSTMModel(nn.Module):\n",
    "    def __init__(self, input_size, hidden_size, num_layers=1):\n",
    "        super(LSTMModel, self).__init__()\n",
    "        self.lstm = nn.LSTM(input_size, hidden_size, num_layers, batch_first=True)\n",
    "        self.fc = nn.Linear(hidden_size, 1)\n",
    "    \n",
    "    def forward(self, x):\n",
    "        out, _ = self.lstm(x)\n",
    "        out = self.fc(out[:, -1, :])\n",
    "        return out"
   ],
   "id": "759d37bfbaf67c1f",
   "outputs": [],
   "execution_count": 121
  },
  {
   "metadata": {
    "ExecuteTime": {
     "end_time": "2025-04-22T11:25:43.204972Z",
     "start_time": "2025-04-22T11:25:43.202623Z"
    }
   },
   "cell_type": "code",
   "source": [
    "input_size = n_features\n",
    "hidden_size = 64\n",
    "model = LSTMModel(input_size, hidden_size, num_layers=2)"
   ],
   "id": "ce400c4aad5ba67a",
   "outputs": [],
   "execution_count": 122
  },
  {
   "metadata": {
    "ExecuteTime": {
     "end_time": "2025-04-22T11:25:43.224476Z",
     "start_time": "2025-04-22T11:25:43.221878Z"
    }
   },
   "cell_type": "code",
   "source": [
    "criterion = nn.MSELoss()\n",
    "optimizer = torch.optim.Adam(model.parameters(), lr=0.001)"
   ],
   "id": "752f5556166bbc75",
   "outputs": [],
   "execution_count": 123
  },
  {
   "metadata": {
    "ExecuteTime": {
     "end_time": "2025-04-22T11:27:05.773960Z",
     "start_time": "2025-04-22T11:25:43.242222Z"
    }
   },
   "cell_type": "code",
   "source": [
    "num_epochs = 50\n",
    "for epoch in range(num_epochs):\n",
    "    model.train()\n",
    "    for X_batch, y_batch in train_loader:\n",
    "        output = model(X_batch)\n",
    "        loss = criterion(output, y_batch)\n",
    "        optimizer.zero_grad()\n",
    "        loss.backward()\n",
    "        optimizer.step()\n",
    "        \n",
    "    model.eval()\n",
    "    with torch.no_grad():\n",
    "        val_losses = []\n",
    "        for X_batch, y_batch in val_loader:\n",
    "            output = model(X_batch)\n",
    "            val_loss = criterion(output, y_batch)\n",
    "            val_losses.append(val_loss.item())\n",
    "            \n",
    "        print(f\"Epoch [{epoch+1}/{num_epochs}], Loss: {loss.item():.4f}, Val Loss: {sum(val_losses)/len(val_losses):.4f}\")"
   ],
   "id": "37a89e4d50bb1669",
   "outputs": [
    {
     "name": "stdout",
     "output_type": "stream",
     "text": [
      "Epoch [1/50], Loss: 5302.1738, Val Loss: 12128.1663\n",
      "Epoch [2/50], Loss: 6917.1465, Val Loss: 9885.7105\n",
      "Epoch [3/50], Loss: 5594.0332, Val Loss: 9058.0114\n",
      "Epoch [4/50], Loss: 11643.8438, Val Loss: 8826.4130\n",
      "Epoch [5/50], Loss: 5950.9053, Val Loss: 8773.5796\n",
      "Epoch [6/50], Loss: 6865.0918, Val Loss: 8745.6629\n",
      "Epoch [7/50], Loss: 5033.7168, Val Loss: 7028.3680\n",
      "Epoch [8/50], Loss: 10260.2461, Val Loss: 6607.5304\n",
      "Epoch [9/50], Loss: 7981.5752, Val Loss: 6467.3053\n",
      "Epoch [10/50], Loss: 6412.9707, Val Loss: 6240.7759\n",
      "Epoch [11/50], Loss: 6662.2778, Val Loss: 6113.6979\n",
      "Epoch [12/50], Loss: 3399.9326, Val Loss: 6105.8631\n",
      "Epoch [13/50], Loss: 2999.5178, Val Loss: 5756.9829\n",
      "Epoch [14/50], Loss: 4431.9019, Val Loss: 5907.1603\n",
      "Epoch [15/50], Loss: 5402.1479, Val Loss: 5999.5303\n",
      "Epoch [16/50], Loss: 4289.8027, Val Loss: 5743.8899\n",
      "Epoch [17/50], Loss: 3647.5166, Val Loss: 5670.3117\n",
      "Epoch [18/50], Loss: 4310.8281, Val Loss: 5526.6259\n",
      "Epoch [19/50], Loss: 2983.9102, Val Loss: 5634.1559\n",
      "Epoch [20/50], Loss: 4962.9355, Val Loss: 5653.8744\n",
      "Epoch [21/50], Loss: 3639.7188, Val Loss: 5327.2364\n",
      "Epoch [22/50], Loss: 5276.9756, Val Loss: 5665.0212\n",
      "Epoch [23/50], Loss: 2229.9028, Val Loss: 5508.6271\n",
      "Epoch [24/50], Loss: 2607.9636, Val Loss: 5534.6957\n",
      "Epoch [25/50], Loss: 2781.7800, Val Loss: 5212.6400\n",
      "Epoch [26/50], Loss: 4835.9185, Val Loss: 5284.7151\n",
      "Epoch [27/50], Loss: 7969.5127, Val Loss: 5600.1818\n",
      "Epoch [28/50], Loss: 3843.9258, Val Loss: 5245.7822\n",
      "Epoch [29/50], Loss: 2855.7437, Val Loss: 5171.7055\n",
      "Epoch [30/50], Loss: 6205.9536, Val Loss: 5355.6867\n",
      "Epoch [31/50], Loss: 7679.9688, Val Loss: 5295.1843\n",
      "Epoch [32/50], Loss: 4425.4487, Val Loss: 5434.6408\n",
      "Epoch [33/50], Loss: 10127.0166, Val Loss: 5272.8013\n",
      "Epoch [34/50], Loss: 5229.5972, Val Loss: 5193.4033\n",
      "Epoch [35/50], Loss: 2349.3157, Val Loss: 5367.9907\n",
      "Epoch [36/50], Loss: 4272.0986, Val Loss: 5241.6133\n",
      "Epoch [37/50], Loss: 7164.3438, Val Loss: 5417.3289\n",
      "Epoch [38/50], Loss: 1423.5670, Val Loss: 5215.9597\n",
      "Epoch [39/50], Loss: 2468.9783, Val Loss: 5273.2038\n",
      "Epoch [40/50], Loss: 4023.8667, Val Loss: 5292.1731\n",
      "Epoch [41/50], Loss: 8073.5151, Val Loss: 5461.1115\n",
      "Epoch [42/50], Loss: 6417.0415, Val Loss: 5197.2942\n",
      "Epoch [43/50], Loss: 2223.1611, Val Loss: 5364.1366\n",
      "Epoch [44/50], Loss: 2531.2244, Val Loss: 5349.8195\n",
      "Epoch [45/50], Loss: 2685.4302, Val Loss: 5386.8992\n",
      "Epoch [46/50], Loss: 5209.4932, Val Loss: 5241.6099\n",
      "Epoch [47/50], Loss: 5186.3315, Val Loss: 5223.8052\n",
      "Epoch [48/50], Loss: 3390.3711, Val Loss: 5434.5586\n",
      "Epoch [49/50], Loss: 1733.1738, Val Loss: 5356.4402\n",
      "Epoch [50/50], Loss: 5943.6221, Val Loss: 5336.6689\n"
     ]
    }
   ],
   "execution_count": 124
  },
  {
   "metadata": {
    "ExecuteTime": {
     "end_time": "2025-04-22T11:27:05.797808Z",
     "start_time": "2025-04-22T11:27:05.793539Z"
    }
   },
   "cell_type": "code",
   "source": [
    "df_test = pd.read_csv('/Users/baymax/Code/pythonProject/PRML/hw3/data/pollution_test_data1.csv')\n",
    "df_test['wnd_dir'] = le.transform(df_test['wnd_dir'])\n",
    "features_test = df_test.drop(columns=['pollution']).values\n",
    "target_test = df_test['pollution'].values"
   ],
   "id": "aaac006095a91653",
   "outputs": [],
   "execution_count": 125
  },
  {
   "metadata": {
    "ExecuteTime": {
     "end_time": "2025-04-22T11:27:05.817810Z",
     "start_time": "2025-04-22T11:27:05.814997Z"
    }
   },
   "cell_type": "code",
   "source": [
    "X_test_scaled = np.zeros_like(features_test, dtype=np.float32)\n",
    "for i in range(n_features):\n",
    "    X_test_scaled[:, i] = scalers[i].transform(features_test[:, i].reshape(-1, 1)).flatten()"
   ],
   "id": "a2b45caa2b41d405",
   "outputs": [],
   "execution_count": 126
  },
  {
   "metadata": {
    "ExecuteTime": {
     "end_time": "2025-04-22T11:27:05.837863Z",
     "start_time": "2025-04-22T11:27:05.835119Z"
    }
   },
   "cell_type": "code",
   "source": [
    "def create_lstm_test_dataset(data, time_steps=3):\n",
    "    X, y = [], []\n",
    "    for i in range(len(data)-time_steps):\n",
    "        X.append(data[i:(i+time_steps)])\n",
    "        y.append(target_test[i + time_steps])\n",
    "    return np.array(X), np.array(y)\n",
    "\n",
    "X_test_seq, y_test_seq = create_lstm_test_dataset(X_test_scaled, time_steps=7)"
   ],
   "id": "62c19e09c890f768",
   "outputs": [],
   "execution_count": 127
  },
  {
   "metadata": {
    "ExecuteTime": {
     "end_time": "2025-04-22T11:27:05.863975Z",
     "start_time": "2025-04-22T11:27:05.855662Z"
    }
   },
   "cell_type": "code",
   "source": [
    "model.eval()\n",
    "with torch.no_grad():\n",
    "    X_test_torch = torch.tensor(X_test_seq, dtype=torch.float32)\n",
    "    predictions = model(X_test_torch).numpy().flatten()"
   ],
   "id": "ca5c0a40314d0505",
   "outputs": [],
   "execution_count": 128
  },
  {
   "metadata": {
    "ExecuteTime": {
     "end_time": "2025-04-22T11:27:05.935344Z",
     "start_time": "2025-04-22T11:27:05.881378Z"
    }
   },
   "cell_type": "code",
   "source": [
    "import matplotlib.pyplot as plt\n",
    "\n",
    "plt.figure(figsize=(14, 5))\n",
    "plt.plot(predictions, label='Predicted PM2.5')\n",
    "plt.plot(y_test_seq, label='Actual PM2.5', alpha=0.7)\n",
    "plt.title('LSTM Prediction vs Actual PM2.5')\n",
    "plt.xlabel('Time Index')\n",
    "plt.ylabel('PM2.5')\n",
    "plt.legend()\n",
    "plt.grid(True)\n",
    "plt.show()"
   ],
   "id": "7c20b0374e0a05f4",
   "outputs": [
    {
     "data": {
      "text/plain": [
       "<Figure size 1400x500 with 1 Axes>"
      ],
      "image/png": "[encoded data removed]"
     },
     "metadata": {},
     "output_type": "display_data"
    }
   ],
   "execution_count": 129
  },
  {
   "metadata": {
    "ExecuteTime": {
     "end_time": "2025-04-22T11:27:05.984322Z",
     "start_time": "2025-04-22T11:27:05.980974Z"
    }
   },
   "cell_type": "code",
   "source": "",
   "id": "7458b642921ab8de",
   "outputs": [],
   "execution_count": null
  },
  {
   "metadata": {
    "ExecuteTime": {
     "end_time": "2025-04-22T11:27:06.013885Z",
     "start_time": "2025-04-22T11:27:06.011976Z"
    }
   },
   "cell_type": "code",
   "source": "",
   "id": "108f0c041ad19d50",
   "outputs": [],
   "execution_count": null
  },
  {
   "metadata": {
    "ExecuteTime": {
     "end_time": "2025-04-22T11:27:06.039024Z",
     "start_time": "2025-04-22T11:27:06.037113Z"
    }
   },
   "cell_type": "code",
   "source": "",
   "id": "46653cc3c0d72d75",
   "outputs": [],
   "execution_count": null
  }
 ],
 "metadata": {
  "kernelspec": {
   "display_name": "Python 3",
   "language": "python",
   "name": "python3"
  },
  "language_info": {
   "codemirror_mode": {
    "name": "ipython",
    "version": 2
   },
   "file_extension": ".py",
   "mimetype": "text/x-python",
   "name": "python",
   "nbconvert_exporter": "python",
   "pygments_lexer": "ipython2",
   "version": "2.7.6"
  }
 },
 "nbformat": 4,
 "nbformat_minor": 5
}
